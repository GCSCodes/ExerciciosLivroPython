{
  "nbformat": 4,
  "nbformat_minor": 0,
  "metadata": {
    "colab": {
      "provenance": [],
      "authorship_tag": "ABX9TyM3kIDLvCca4FUYW8oaT39r",
      "include_colab_link": true
    },
    "kernelspec": {
      "name": "python3",
      "display_name": "Python 3"
    },
    "language_info": {
      "name": "python"
    }
  },
  "cells": [
    {
      "cell_type": "markdown",
      "metadata": {
        "id": "view-in-github",
        "colab_type": "text"
      },
      "source": [
        "<a href=\"https://colab.research.google.com/github/GabrielCavalcante49/ExerciciosLivroPython/blob/main/Exercicios_Cap_03_E_04.ipynb\" target=\"_parent\"><img src=\"https://colab.research.google.com/assets/colab-badge.svg\" alt=\"Open In Colab\"/></a>"
      ]
    },
    {
      "cell_type": "markdown",
      "source": [
        "# **Resolução de Exercícios do Livro**\n",
        "\n",
        "Esses exercícios estão diponíveis na 4° edição do \"Introdução à programação com Python\n",
        "\n",
        "GitHub:https://github.com/GabrielCavalcante49"
      ],
      "metadata": {
        "id": "necZcds2TYt4"
      }
    },
    {
      "cell_type": "markdown",
      "source": [
        "# **Cap. 3**"
      ],
      "metadata": {
        "id": "4jSxR5pWRrlp"
      }
    },
    {
      "cell_type": "code",
      "execution_count": null,
      "metadata": {
        "colab": {
          "base_uri": "https://localhost:8080/"
        },
        "id": "Eyo-LZlJP3NR",
        "outputId": "89f2eb7f-bcb7-40f6-b1ed-da2604510b3d"
      },
      "outputs": [
        {
          "output_type": "stream",
          "name": "stdout",
          "text": [
            "Digite um valor em métros: 10\n",
            "10.0 em milímetros é: 10000.0\n"
          ]
        }
      ],
      "source": [
        "#Exercicio 3.8\n",
        "#Escreva um programa que leia um valor em métros e o exiba em milímetros.\n",
        "valor_metro = float(input(\"Digite um valor em métros: \"))\n",
        "valor_mili = valor_metro*1000\n",
        "print(f\"{valor_metro} em milímetros é: {valor_mili}\")"
      ]
    },
    {
      "cell_type": "code",
      "source": [
        "#Exercicio 3.9\n",
        "#Escreva um programa que leia a quantidade de dias, horas, minutos e segundos do usuário. Calcule o total em segundos.\n",
        "entrada = input(\"Digite uma quantidade de dias, horas, minutos e segundos, respectivamente: \")\n",
        "dia, hora, minuto, segundo = map(int, entrada.split())\n",
        "soma = int((dia*86400) + (hora*60) + (minuto*60) + segundo)\n",
        "\n",
        "print(f\"O somatório de tudo em segundos é {soma}\")"
      ],
      "metadata": {
        "colab": {
          "base_uri": "https://localhost:8080/"
        },
        "id": "Io58hwuNRsWJ",
        "outputId": "206f1bce-b9ea-4c07-ef4f-de36d3cb60ec"
      },
      "execution_count": null,
      "outputs": [
        {
          "output_type": "stream",
          "name": "stdout",
          "text": [
            "Digite uma quantidade de dias, horas, minutos e segundos, respectivamente: 1 20 50 50\n",
            "O somatório de tudo em segundos é 90650\n"
          ]
        }
      ]
    },
    {
      "cell_type": "code",
      "source": [
        "#Exercicio 3.10\n",
        "#Escreva um programa que calcule o aumeto de salário. Ele deve solicitar o valor do salário e a porcentagem\n",
        "#do aumento. Exiba o valor do aumento e do novo salário.\n",
        "\n",
        "salario = float(input(\"Insira o valor do salário: \"))\n",
        "porcem = int(input(\"Insira a porcentagem de aumento: \"))\n",
        "\n",
        "porcem = porcem/100\n",
        "aumento1 = salario*porcem\n",
        "aumento2 = salario + aumento1\n",
        "\n",
        "print(f\"Valor do aumento: {aumento1}\")\n",
        "print(f\"Valor do novo salário: {aumento2}\")\n"
      ],
      "metadata": {
        "colab": {
          "base_uri": "https://localhost:8080/"
        },
        "id": "P1P0CbnsR4UZ",
        "outputId": "6ffc526a-be02-4f79-c462-a1139092d014"
      },
      "execution_count": null,
      "outputs": [
        {
          "output_type": "stream",
          "name": "stdout",
          "text": [
            "Insira o valor do salário: 5000\n",
            "Insira a porcentagem de aumento: 20\n",
            "Valor do aumento: 1000.0\n",
            "Valor do novo salário: 6000.0\n"
          ]
        }
      ]
    },
    {
      "cell_type": "code",
      "source": [
        "#Exercicio 3.11\n",
        "# Faça um programa que solicite o preço de uma mercadoria e o percentual de desconto.\n",
        "# Exiba o valor de desconto e o preço a pagar.\n",
        "\n",
        "preco = float(input(\"Digite o valor do produto: \"))\n",
        "desconto = int(input(\"Porcentagem do desconto: \"))\n",
        "\n",
        "desconto = desconto/100\n",
        "desconto1 = preco*desconto\n",
        "desconto2 = preco - desconto1\n",
        "\n",
        "print(f\"Valor descontado: {desconto1}\")\n",
        "print(f\"Novo valor do produto: {desconto2}\")"
      ],
      "metadata": {
        "colab": {
          "base_uri": "https://localhost:8080/"
        },
        "id": "NEyLaU4DSK3f",
        "outputId": "d43db359-fc4f-4683-b76a-db32d9e70c1e"
      },
      "execution_count": null,
      "outputs": [
        {
          "output_type": "stream",
          "name": "stdout",
          "text": [
            "Digite o valor do produto: 20\n",
            "Porcentagem do desconto: 50\n",
            "Valor descontado: 10.0\n",
            "Novo valor do produto: 10.0\n"
          ]
        }
      ]
    },
    {
      "cell_type": "code",
      "source": [
        "#Exercicio 3.13\n",
        "# Escreva um programa que pergunte a quantidade de km percorridas por um carro alugado pelo usuário,\n",
        "# assim como a quantidade de dias pelos quais o carro foi alugado.Calcule o preço a pagar,\n",
        "# sabendo que o carro custa R$60,0 por dia e R$0,15 por km rodado.\n",
        "\n",
        "km_percorridos = float(input(\"Digite a qualtidade de km percorridos: \"))\n",
        "dias_alugados = int(input(\"quantidade de dias que o carro foi alugado: \"))\n",
        "\n",
        "km_percorridos1 = km_percorridos*0.15\n",
        "dias_alugados1 = dias_alugados*60\n",
        "total_a_pagar = km_percorridos1 + dias_alugados1\n",
        "\n",
        "print(f\"Total a pagar: R${total_a_pagar}\")"
      ],
      "metadata": {
        "colab": {
          "base_uri": "https://localhost:8080/"
        },
        "id": "6R4EFImuSR1v",
        "outputId": "4420fa3c-576f-4a45-87b7-6c8dad80b6e7"
      },
      "execution_count": null,
      "outputs": [
        {
          "output_type": "stream",
          "name": "stdout",
          "text": [
            "Digite a qualtidade de km percorridos: 80\n",
            "quantidade de dias que o carro foi alugado: 2\n",
            "Total a pagar: R$132.0\n"
          ]
        }
      ]
    },
    {
      "cell_type": "markdown",
      "source": [
        "# **Cap. 04**"
      ],
      "metadata": {
        "id": "263zAbkJSu8n"
      }
    },
    {
      "cell_type": "code",
      "source": [
        "# Exercício 4.11\n",
        "# Escreva um programa para aprovar o emprestimo bancário para compra de uma casa. O programa deve perguntar o valor da casa a comprar,\n",
        "# o salério e a quantidade de anos a pagar. O valor da prestação mensal não pode ser superior a 30% do salário. Calcule o valor da prestação\n",
        "# como sendo o valor da casa a comprar dividido pelo número de meses a pagar.\n",
        "\n",
        "valor_casa = float(input(\"Digite o valor da casa a comprar: \"))\n",
        "salario = float(input(\"Qual o seu salário? \"))\n",
        "anos = float(input(\"anos a pagar: \"))\n",
        "\n",
        "meses = anos*12\n",
        "prestacao = valor_casa/meses\n",
        "\n",
        "if prestacao < salario*0.30:\n",
        "  print(f\"Com o salário de {salario}, sua prestação será de:R$ {prestacao:.2f}\")\n",
        "else:\n",
        "  print(\"Seu salário não conseguirá arcar com o pagamento\")"
      ],
      "metadata": {
        "colab": {
          "base_uri": "https://localhost:8080/"
        },
        "id": "LSncxq68SY_O",
        "outputId": "750d3631-4270-4afe-ce7b-eb65c50d2cc7"
      },
      "execution_count": 1,
      "outputs": [
        {
          "output_type": "stream",
          "name": "stdout",
          "text": [
            "Digite o valor da casa a comprar: 100000\n",
            "Qual o seu salário? 5000\n",
            "anos a pagar: 8\n",
            "Com o salário de 5000.0, sua prestação será de:R$1041.67\n"
          ]
        }
      ]
    },
    {
      "cell_type": "code",
      "source": [
        "# Escreva um programa que calcule o preço a pagar pelo fornecimento de energia elétrica.\n",
        "# Pergunte a quantidade de kWh consumida e o tipo de instalação: R para residências, I para indústrias e C para comércios.\n",
        "# Calcule o preço a pagar de acordo com a tabela a seguir.\n",
        "tabela = \"\"\"\n",
        "+---------------------------------------+\n",
        "|   Preço por tipo e faixa de consumo   |\n",
        "+---------------------------------------+\n",
        "| Tipo        | Faixa (kWh)   | Preço   |\n",
        "+=======================================+\n",
        "| Residencial | Até 500       | R$ 0,40 |\n",
        "|             | Acima de 500  | R$ 0,65 |\n",
        "+---------------------------------------+\n",
        "| Comercial   | Até 1000      | R$ 0,55 |\n",
        "|             | Acima de 1000 | R$ 0,60 |\n",
        "+---------------------------------------+\n",
        "| Industrial  | Até 5000      | R$ 0,55 |\n",
        "|             | Acima de 5000 | R$ 0,60 |\n",
        "+---------------------------------------+\n",
        "\"\"\"\n",
        "\n",
        "energia_consumida = int(input(\"Informe a quantidade de energia consumida em kwh: \"))\n",
        "tipo_instalacao = input(\"Qual o tipo de intalação?(R para residências, I para indústrias e C para comércios)\").lower()\n",
        "\n",
        "total_a_pagar = 0\n",
        "\n",
        "if tipo_instalacao == 'r':\n",
        "  if energia_consumida <= 500:\n",
        "     total_a_pagar = 0.40\n",
        "  elif energia_consumida > 500:\n",
        "    total_a_pagar = 0.65\n",
        "\n",
        "if tipo_instalacao =='i':\n",
        "  if energia_consumida <= 1000:\n",
        "    total_a_pagar = 0.55\n",
        "  elif energia_consumida > 1000:\n",
        "    total_a_pagar = 0.60\n",
        "\n",
        "if tipo_instalacao == 'c':\n",
        "  if energia_consumida <= 5000:\n",
        "    total_a_pagar = 0.55\n",
        "  elif energia_consumida > 5000:\n",
        "    total_a_pagar = 0.60\n",
        "\n",
        "print(f\"Total a pagar: R${total_a_pagar}\")"
      ],
      "metadata": {
        "colab": {
          "base_uri": "https://localhost:8080/"
        },
        "id": "21J4HXU2OwOb",
        "outputId": "98acb666-e348-4b0a-b7ea-a0ae13fa7ef8"
      },
      "execution_count": 6,
      "outputs": [
        {
          "output_type": "stream",
          "name": "stdout",
          "text": [
            "Informe a quantidade de energia consumida em kwh: 5000\n",
            "Qual o tipo de intalação?(R para residências, I para indústrias e C para comércios)i\n",
            "Total a pagar: R$0.6\n"
          ]
        }
      ]
    }
  ]
}