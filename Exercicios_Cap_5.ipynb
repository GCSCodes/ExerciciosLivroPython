{
  "nbformat": 4,
  "nbformat_minor": 0,
  "metadata": {
    "colab": {
      "provenance": [],
      "authorship_tag": "ABX9TyPP18muadzl9ZGlUwJn8Qz9",
      "include_colab_link": true
    },
    "kernelspec": {
      "name": "python3",
      "display_name": "Python 3"
    },
    "language_info": {
      "name": "python"
    }
  },
  "cells": [
    {
      "cell_type": "markdown",
      "metadata": {
        "id": "view-in-github",
        "colab_type": "text"
      },
      "source": [
        "<a href=\"https://colab.research.google.com/github/GabrielCavalcante49/ExerciciosLivroPython/blob/main/Exercicios_Cap_5.ipynb\" target=\"_parent\"><img src=\"https://colab.research.google.com/assets/colab-badge.svg\" alt=\"Open In Colab\"/></a>"
      ]
    },
    {
      "cell_type": "markdown",
      "source": [
        "# **RESOLUÇÃO DE EXERCICIOS - CAP 05**\n",
        "\n",
        "github: https://github.com/GabrielCavalcante49"
      ],
      "metadata": {
        "id": "clE7XNp1K1VN"
      }
    },
    {
      "cell_type": "code",
      "execution_count": null,
      "metadata": {
        "colab": {
          "base_uri": "https://localhost:8080/"
        },
        "collapsed": true,
        "id": "ofdTowN9Jm7X",
        "outputId": "68761ad1-6b67-436b-b87a-054286d99467"
      },
      "outputs": [
        {
          "output_type": "stream",
          "name": "stdout",
          "text": [
            "0\n",
            "1\n",
            "2\n",
            "3\n",
            "4\n",
            "5\n",
            "6\n",
            "7\n",
            "8\n",
            "9\n",
            "10\n",
            "11\n",
            "12\n",
            "13\n",
            "14\n",
            "15\n",
            "16\n",
            "17\n",
            "18\n",
            "19\n",
            "20\n",
            "21\n",
            "22\n",
            "23\n",
            "24\n",
            "25\n",
            "26\n",
            "27\n",
            "28\n",
            "29\n",
            "30\n",
            "31\n",
            "32\n",
            "33\n",
            "34\n",
            "35\n",
            "36\n",
            "37\n",
            "38\n",
            "39\n",
            "40\n",
            "41\n",
            "42\n",
            "43\n",
            "44\n",
            "45\n",
            "46\n",
            "47\n",
            "48\n",
            "49\n",
            "50\n",
            "51\n",
            "52\n",
            "53\n",
            "54\n",
            "55\n",
            "56\n",
            "57\n",
            "58\n",
            "59\n",
            "60\n",
            "61\n",
            "62\n",
            "63\n",
            "64\n",
            "65\n",
            "66\n",
            "67\n",
            "68\n",
            "69\n",
            "70\n",
            "71\n",
            "72\n",
            "73\n",
            "74\n",
            "75\n",
            "76\n",
            "77\n",
            "78\n",
            "79\n",
            "80\n",
            "81\n",
            "82\n",
            "83\n",
            "84\n",
            "85\n",
            "86\n",
            "87\n",
            "88\n",
            "89\n",
            "90\n",
            "91\n",
            "92\n",
            "93\n",
            "94\n",
            "95\n",
            "96\n",
            "97\n",
            "98\n",
            "99\n",
            "100\n"
          ]
        }
      ],
      "source": [
        "# 01 - Modifique o programa para exibir os números de 1 a 100.\n",
        "x = 0\n",
        "\n",
        "while x <= 100:\n",
        "  print(x)\n",
        "  x += 1\n"
      ]
    },
    {
      "cell_type": "code",
      "source": [
        "# 02 - Modifique o programa para exibir os números de 50 a 100.\n",
        "x = 50\n",
        "\n",
        "while x <= 100:\n",
        "  print(x)\n",
        "  x += 1\n"
      ],
      "metadata": {
        "colab": {
          "base_uri": "https://localhost:8080/"
        },
        "collapsed": true,
        "id": "0VcEWN_2KaGt",
        "outputId": "ea2f2c99-ed34-40dd-9b5f-40a5d56e807b"
      },
      "execution_count": null,
      "outputs": [
        {
          "output_type": "stream",
          "name": "stdout",
          "text": [
            "50\n",
            "51\n",
            "52\n",
            "53\n",
            "54\n",
            "55\n",
            "56\n",
            "57\n",
            "58\n",
            "59\n",
            "60\n",
            "61\n",
            "62\n",
            "63\n",
            "64\n",
            "65\n",
            "66\n",
            "67\n",
            "68\n",
            "69\n",
            "70\n",
            "71\n",
            "72\n",
            "73\n",
            "74\n",
            "75\n",
            "76\n",
            "77\n",
            "78\n",
            "79\n",
            "80\n",
            "81\n",
            "82\n",
            "83\n",
            "84\n",
            "85\n",
            "86\n",
            "87\n",
            "88\n",
            "89\n",
            "90\n",
            "91\n",
            "92\n",
            "93\n",
            "94\n",
            "95\n",
            "96\n",
            "97\n",
            "98\n",
            "99\n",
            "100\n"
          ]
        }
      ]
    },
    {
      "cell_type": "code",
      "source": [
        "# 03 - Faça um programa para escrever a contagem regressiva do lançamento de um foguete.\n",
        "# O programa deve imprimir 10, 9, 8, …, 1, 0 e Fogo! na tela.\n",
        "\n",
        "x = 10\n",
        "\n",
        "while x > 0:\n",
        "  print(x)\n",
        "  x -= 1\n",
        "  if x == 0:\n",
        "    print(\"Fogo!\")"
      ],
      "metadata": {
        "colab": {
          "base_uri": "https://localhost:8080/"
        },
        "id": "SarA6L8QK0DU",
        "outputId": "0e381e12-dbd8-4eb4-885f-090bfc167795"
      },
      "execution_count": null,
      "outputs": [
        {
          "output_type": "stream",
          "name": "stdout",
          "text": [
            "10\n",
            "9\n",
            "8\n",
            "7\n",
            "6\n",
            "5\n",
            "4\n",
            "3\n",
            "2\n",
            "1\n",
            "Fogo!\n"
          ]
        }
      ]
    },
    {
      "cell_type": "code",
      "source": [
        "# 04 - Modifique o programa anterior para imprimir de 1 até o número digitado pelo usuário, mas, dessa vez, apenas os números ímpares.\n",
        "\n",
        "fim = int(input(\"Digite o último número a imprimir:\"))\n",
        "x = 1\n",
        "while x <= fim:\n",
        "    print(x)\n",
        "    x = x + 2"
      ],
      "metadata": {
        "colab": {
          "base_uri": "https://localhost:8080/"
        },
        "collapsed": true,
        "id": "yndiUhKzM9rc",
        "outputId": "883e91c7-372e-4a14-8cea-fc28b7d618da"
      },
      "execution_count": null,
      "outputs": [
        {
          "output_type": "stream",
          "name": "stdout",
          "text": [
            "Digite o último número a imprimir:90\n",
            "1\n",
            "3\n",
            "5\n",
            "7\n",
            "9\n",
            "11\n",
            "13\n",
            "15\n",
            "17\n",
            "19\n",
            "21\n",
            "23\n",
            "25\n",
            "27\n",
            "29\n",
            "31\n",
            "33\n",
            "35\n",
            "37\n",
            "39\n",
            "41\n",
            "43\n",
            "45\n",
            "47\n",
            "49\n",
            "51\n",
            "53\n",
            "55\n",
            "57\n",
            "59\n",
            "61\n",
            "63\n",
            "65\n",
            "67\n",
            "69\n",
            "71\n",
            "73\n",
            "75\n",
            "77\n",
            "79\n",
            "81\n",
            "83\n",
            "85\n",
            "87\n",
            "89\n"
          ]
        }
      ]
    },
    {
      "cell_type": "code",
      "source": [
        "# 05 - Reescreva o programa anterior para escrever os 10 primeiros múltiplos de 3.\n",
        "\n",
        "x = 0\n",
        "v = 0\n",
        "while x <= 10:\n",
        "  print(v)\n",
        "  v = v + 3\n",
        "  x = x + 1\n"
      ],
      "metadata": {
        "colab": {
          "base_uri": "https://localhost:8080/"
        },
        "id": "HyT_yOX3RS3c",
        "outputId": "b8895185-9568-438a-fbf8-7631de1bfae3"
      },
      "execution_count": null,
      "outputs": [
        {
          "output_type": "stream",
          "name": "stdout",
          "text": [
            "0\n",
            "3\n",
            "6\n",
            "9\n",
            "12\n",
            "15\n",
            "18\n",
            "21\n",
            "24\n",
            "27\n",
            "30\n"
          ]
        }
      ]
    },
    {
      "cell_type": "code",
      "source": [
        "# 06 - Altere o programa anterior para exibir os resultados no mesmo formato de uma tabuada: 2x1 = 2, 2x2 = 4, …\n",
        "\n",
        "tabuada = int(input(\"Digite a tabuada que deseja saber: \"))\n",
        "x = 0\n",
        "while x <= 10:\n",
        "  print(f\"{tabuada}x{x} = {tabuada*x}\")\n",
        "  x += 1"
      ],
      "metadata": {
        "colab": {
          "base_uri": "https://localhost:8080/"
        },
        "id": "ufgWOO6GS9EU",
        "outputId": "61d204c0-f4d6-420c-83a0-dabf9e373f2d"
      },
      "execution_count": null,
      "outputs": [
        {
          "output_type": "stream",
          "name": "stdout",
          "text": [
            "Digite a tabuada que deseja saber: 9\n",
            "9x0 = 0\n",
            "9x1 = 9\n",
            "9x2 = 18\n",
            "9x3 = 27\n",
            "9x4 = 36\n",
            "9x5 = 45\n",
            "9x6 = 54\n",
            "9x7 = 63\n",
            "9x8 = 72\n",
            "9x9 = 81\n",
            "9x10 = 90\n"
          ]
        }
      ]
    },
    {
      "cell_type": "code",
      "source": [
        "# 07 - Escreva um programa que pergunte o depósito inicial e a taxa de juros de uma poupança.\n",
        "# Exiba os valores mês a mês para os 24 primeiros meses. Escreva o total ganho com juros no período.\n",
        "\n",
        "depósito = float(input(\"Depósito inicial: \"))\n",
        "taxa = float(input(\"Taxa de juros (Ex.: 3 para 3%): \"))\n",
        "mês = 1\n",
        "saldo = depósito\n",
        "while mês <= 24:\n",
        "    saldo = saldo + (saldo * (taxa / 100))\n",
        "    print(f\"Saldo do mês {mês} é de R${saldo:5.2f}.\")\n",
        "    mês = mês + 1\n",
        "print(f\"O ganho obtido com os juros foi de R${saldo-depósito:8.2f}.\")"
      ],
      "metadata": {
        "colab": {
          "base_uri": "https://localhost:8080/"
        },
        "id": "EPOMmCrsUFp9",
        "outputId": "b283292f-99b4-439b-d8f9-dc503718fff9"
      },
      "execution_count": null,
      "outputs": [
        {
          "output_type": "stream",
          "name": "stdout",
          "text": [
            "Depósito inicial: 1000\n",
            "Taxa de juros (Ex.: 3 para 3%): 3\n",
            "Saldo do mês 1 é de R$1030.00.\n",
            "Saldo do mês 2 é de R$1060.90.\n",
            "Saldo do mês 3 é de R$1092.73.\n",
            "Saldo do mês 4 é de R$1125.51.\n",
            "Saldo do mês 5 é de R$1159.27.\n",
            "Saldo do mês 6 é de R$1194.05.\n",
            "Saldo do mês 7 é de R$1229.87.\n",
            "Saldo do mês 8 é de R$1266.77.\n",
            "Saldo do mês 9 é de R$1304.77.\n",
            "Saldo do mês 10 é de R$1343.92.\n",
            "Saldo do mês 11 é de R$1384.23.\n",
            "Saldo do mês 12 é de R$1425.76.\n",
            "Saldo do mês 13 é de R$1468.53.\n",
            "Saldo do mês 14 é de R$1512.59.\n",
            "Saldo do mês 15 é de R$1557.97.\n",
            "Saldo do mês 16 é de R$1604.71.\n",
            "Saldo do mês 17 é de R$1652.85.\n",
            "Saldo do mês 18 é de R$1702.43.\n",
            "Saldo do mês 19 é de R$1753.51.\n",
            "Saldo do mês 20 é de R$1806.11.\n",
            "Saldo do mês 21 é de R$1860.29.\n",
            "Saldo do mês 22 é de R$1916.10.\n",
            "Saldo do mês 23 é de R$1973.59.\n",
            "Saldo do mês 24 é de R$2032.79.\n",
            "O ganho obtido com os juros foi de R$ 1032.79.\n"
          ]
        }
      ]
    },
    {
      "cell_type": "code",
      "source": [
        "# 08 - Escreva um programa que leia números inteiros do teclado.\n",
        "# O programa deve ler os números até que o usuário digite 0 (zero).\n",
        "# No final da execução, exiba a quantidade de números digitados, assim como a soma e a média aritmética.\n",
        "\n",
        "lista = []\n",
        "x = 1\n",
        "\n",
        "while x != 0 :\n",
        "  num = int(input(\"Digite um número: \"))\n",
        "  lista.append(num)\n",
        "  x += 1\n",
        "  if num == 0:\n",
        "    break\n",
        "\n",
        "media = sum(lista) / len(lista)\n",
        "print(f\"Foram digitados {len(lista) - 1} números, com soma de {sum(lista)} e média de {media:5.2f}\")"
      ],
      "metadata": {
        "colab": {
          "base_uri": "https://localhost:8080/"
        },
        "id": "8C3hv8UvX7gt",
        "outputId": "907e908a-b6ec-4865-c99a-ecc6fb6542cd"
      },
      "execution_count": null,
      "outputs": [
        {
          "output_type": "stream",
          "name": "stdout",
          "text": [
            "Digite um número: 10\n",
            "Digite um número: 20\n",
            "Digite um número: 30\n",
            "Digite um número: 40\n",
            "Digite um número: 50\n",
            "Digite um número: 60\n",
            "Digite um número: 70\n",
            "Digite um número: 80\n",
            "Digite um número: 90\n",
            "Digite um número: 100\n",
            "Digite um número: 0\n",
            "Foram digitados 10 números, com soma de 550 e média de 50.00\n"
          ]
        }
      ]
    },
    {
      "cell_type": "code",
      "source": [
        "# 09 - Escreva um programa para controlar uma pequena máquina registradora.\n",
        "# Você deve solicitar ao usuário que digite o código do produto e a quantidade comprada.\n",
        "# Utilize a tabela de códigos a seguir para obter o preço de cada produto:\n",
        "tabela = '''\n",
        "Código Preço\n",
        "1      0,50\n",
        "2      1,00\n",
        "3      4,00\n",
        "5      7,00\n",
        "9      8,00'''\n",
        "# Seu programa deve exibir o total das compras depois que o usuário digitar 0.\n",
        "# Qualquer outro código deve gerar a mensagem de erro “Código inválido”.\n",
        "preco = 0\n",
        "\n",
        "while True:\n",
        "\n",
        "  cod = int(input(\"Digite o código do produto(1,2,3,5 ou 9): \"))\n",
        "  qtd = float(input(\"Digite a quantidade: \"))\n",
        "\n",
        "  if cod == 1:\n",
        "    preco = 0.50\n",
        "  elif cod == 2:\n",
        "    preco = 1.00\n",
        "  elif cod == 3:\n",
        "    preco = 4.00\n",
        "  elif cod == 5:\n",
        "    preco = 7.00\n",
        "  elif cod == 9:\n",
        "    preco = 8.00\n",
        "  else:\n",
        "    print(\"O Código digitado está errado.\")\n",
        "  if cod == 0:\n",
        "    break\n",
        "\n",
        "  total_a_pagar = qtd*preco\n",
        "  print(f\"Total a pagar: {total_a_pagar}\")"
      ],
      "metadata": {
        "colab": {
          "base_uri": "https://localhost:8080/"
        },
        "id": "wPqLAtPfcXoF",
        "outputId": "94fa9855-8e65-4243-fdb9-92e417051008",
        "collapsed": true
      },
      "execution_count": null,
      "outputs": [
        {
          "output_type": "stream",
          "name": "stdout",
          "text": [
            "Digite o código do produto(1,2,3,5 ou 9): 5\n",
            "Digite a quantidade: 2\n",
            "Total a pagar: 14.0\n",
            "Digite o código do produto(1,2,3,5 ou 9): 0\n",
            "Digite a quantidade: 0\n",
            "O Código digitado está errado.\n"
          ]
        }
      ]
    },
    {
      "cell_type": "code",
      "source": [
        "# 10 - Escreva um programa que exiba uma lista de opções (menu): adição, subtração, divisão, multiplicação e sair.\n",
        "# Imprima a tabuada da operação escolhida.\n",
        "\n",
        "\n",
        "print('''\n",
        "\n",
        "------Criador de tabuada-----\n",
        "        Digite uma opção:\n",
        "        1 - adição\n",
        "        2 - subtração\n",
        "        3 - divisão\n",
        "        4 - multiplicação\n",
        "        5 - sair\n",
        "-----------------------------\n",
        "''')\n",
        "\n",
        "\n",
        "\n",
        "while True:\n",
        "  op_menu = int(input('Operação: '))\n",
        "\n",
        "  if op_menu == 5:\n",
        "    break\n",
        "  elif op_menu >= 1 and op_menu < 5:\n",
        "    tabuada = int(input(\"Tabuada de: \"))\n",
        "    x = 0\n",
        "    while x <= 10:\n",
        "      if op_menu == 1:\n",
        "        print(f\"{tabuada} + {x} = {tabuada + x}\")\n",
        "        x += 1\n",
        "      elif op_menu == 2:\n",
        "        print(f\"{tabuada} - {x} = {tabuada - x}\")\n",
        "        x+=1\n",
        "      elif op_menu == 3:\n",
        "        print(f\"{tabuada}/{x} = {tabuada // x}\")\n",
        "        x+=1\n",
        "      elif op_menu == 4:\n",
        "        print(f\"{tabuada} x {x} = {tabuada * x}\")\n",
        "        x+=1\n",
        "      else:\n",
        "        print(\"Opção Inválida.\")"
      ],
      "metadata": {
        "id": "ae2f90TXfZS7"
      },
      "execution_count": null,
      "outputs": []
    },
    {
      "cell_type": "code",
      "source": [
        "# 11 - Escreva um programa que leia um número e verifique se é ou não um número primo.\n",
        "# Para fazer essa verificação, calcule o resto da divisão do número por 2 e depois por todos os números ímpares até o número lido.\n",
        "# Se o resto de uma dessas divisões for igual a zero, o número não é primo.\n",
        "# Observe que 0 e 1 não são primos e que 2 é o único número primo que é par.\n",
        "resp = 1\n",
        "while resp == 1:\n",
        "  num = int(input(\"Digite um número: \"))\n",
        "  x = 1\n",
        "  resto = num % 2\n",
        "  if num < 0:\n",
        "    print(\"O númer precisa ser positivo\")\n",
        "  if num == 0 or num == 1 or num == 2:\n",
        "    print(f\"{num} é um caso especial.\")\n",
        "  if resto == 0:\n",
        "    print(f\"{num} não é primo. O 2 é o único número par que é primo.\")\n",
        "  else:\n",
        "    print(\"É primo.\")\n",
        "  resp  = int(input(\"Deseja verificar outro npumero?[0(não)/1(sim)]\"))\n",
        "  if resp == 0:\n",
        "    break"
      ],
      "metadata": {
        "colab": {
          "base_uri": "https://localhost:8080/"
        },
        "id": "T5to7WAEnSsS",
        "outputId": "fbf8e88f-09f4-4779-a7a0-1276739d1603"
      },
      "execution_count": 13,
      "outputs": [
        {
          "name": "stdout",
          "output_type": "stream",
          "text": [
            "Digite um número: 443\n",
            "É primo.\n",
            "Deseja verificar outro npumero?[0(não)/1(sim)]0\n"
          ]
        }
      ]
    },
    {
      "cell_type": "code",
      "source": [
        "# 12 -Escreva um programa que verifique se um número é palíndromo.\n",
        "# Um número é palíndromo se continua o mesmo caso seus dígitos sejam invertidos.\n",
        "# Exemplos: 454, 10501\n",
        "\n",
        "numero = int(input(\"Digite um número: \"))\n",
        "numero_invertido = int(str(numero)[::-1])\n",
        "if numero == numero_invertido:\n",
        "  print(f\"{numero} é um número palíndromo.\")\n",
        "else:\n",
        "  print(f\"{numero} Não é um palindromo.\")"
      ],
      "metadata": {
        "colab": {
          "base_uri": "https://localhost:8080/"
        },
        "id": "DavleOTYu-Ep",
        "outputId": "44de8b1d-6b7a-419c-bfd2-50e15a54ce71"
      },
      "execution_count": 19,
      "outputs": [
        {
          "output_type": "stream",
          "name": "stdout",
          "text": [
            "Digite um número: 101\n",
            "101 é um número palíndromo.\n"
          ]
        }
      ]
    }
  ]
}