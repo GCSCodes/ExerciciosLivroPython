{
  "nbformat": 4,
  "nbformat_minor": 0,
  "metadata": {
    "colab": {
      "provenance": [],
      "authorship_tag": "ABX9TyOH9xiS3D4wf+PGdH7iW/Uj",
      "include_colab_link": true
    },
    "kernelspec": {
      "name": "python3",
      "display_name": "Python 3"
    },
    "language_info": {
      "name": "python"
    }
  },
  "cells": [
    {
      "cell_type": "markdown",
      "metadata": {
        "id": "view-in-github",
        "colab_type": "text"
      },
      "source": [
        "<a href=\"https://colab.research.google.com/github/GabrielCavalcante49/ExerciciosLivroPython/blob/main/EXERCICIOS_CAP_08.ipynb\" target=\"_parent\"><img src=\"https://colab.research.google.com/assets/colab-badge.svg\" alt=\"Open In Colab\"/></a>"
      ]
    },
    {
      "cell_type": "markdown",
      "source": [
        "# Exercícios Resolvidos - Cap 08\n",
        "Exercicios resolvidos do capítulo 8 do livro Introdução à Programação com Python, de Nilo Ney Coutinho Menezes\n",
        "\n",
        "\n",
        "GitHub: https://github.com/GabrielCavalcante49"
      ],
      "metadata": {
        "id": "tR0qb8muXIBH"
      }
    },
    {
      "cell_type": "code",
      "execution_count": null,
      "metadata": {
        "colab": {
          "base_uri": "https://localhost:8080/"
        },
        "id": "-GPwFVFDeZVe",
        "outputId": "367fb371-7e30-4a41-fb99-c8d68fb2ef69"
      },
      "outputs": [
        {
          "output_type": "stream",
          "name": "stdout",
          "text": [
            "Nota 1:10\n",
            "Nota 2:8\n",
            "Nota 3:7\n",
            "Nota 4:4\n",
            "Nota 5:2\n",
            "Nota 6:9\n",
            "Nota 7:3\n",
            "Nota 0:  10.00\n",
            "Nota 1:   8.00\n",
            "Nota 2:   7.00\n",
            "Nota 3:   4.00\n",
            "Nota 4:   2.00\n",
            "Nota 5:   9.00\n",
            "Nota 6:   3.00\n",
            "Média:  6.14\n"
          ]
        }
      ],
      "source": [
        "# EXERCICIO 6-1\n",
        "# Modifique o Programa 6.2 para ler 7 notas em vez de 5.\n",
        "notas = [0, 0, 0, 0, 0, 0, 0]  # Ou [0] * 7\n",
        "soma = 0\n",
        "x = 0\n",
        "while x < 7:\n",
        "    notas[x] = float(input(f\"Nota {x+1}:\"))\n",
        "    soma += notas[x]\n",
        "    x += 1\n",
        "x = 0\n",
        "while x < 7:\n",
        "    print(f\"Nota {x}: {notas[x]:6.2f}\")\n",
        "    x += 1\n",
        "print(f\"Média: {soma/x:5.2f}\")"
      ]
    },
    {
      "cell_type": "code",
      "source": [
        "# EXERCICIO 6-2\n",
        "# Faça um programa que leia duas listas e que gere uma terceira com os elementos das duas primeiras.\n",
        "\n",
        "L1 = [1,2,3,4,5]\n",
        "L2 = [6,7,8,9,10]\n",
        "L3 = L1 + L2\n",
        "print(L3)"
      ],
      "metadata": {
        "colab": {
          "base_uri": "https://localhost:8080/"
        },
        "id": "4pwrI9CMeimj",
        "outputId": "620d074c-4c41-400c-c749-6464fcb4b07b"
      },
      "execution_count": null,
      "outputs": [
        {
          "output_type": "stream",
          "name": "stdout",
          "text": [
            "[1, 2, 3, 4, 5, 6, 7, 8, 9, 10]\n"
          ]
        }
      ]
    },
    {
      "cell_type": "code",
      "source": [
        "# EXERCICIO 6-2(OUTRA FORMA)\n",
        "L1 = []\n",
        "L2 = []\n",
        "\n",
        "while True:\n",
        "  i = int(input('Digite um valor da lista 1 (0 encerra)'))\n",
        "  if i == 0:\n",
        "    break\n",
        "  L1.append(i)\n",
        "\n",
        "while True:\n",
        "  i = int(input('Digite uma valor da segunda lista(0 encerra)'))\n",
        "  if i == 0:\n",
        "    break\n",
        "  L2.append(i)\n",
        "\n",
        "L3 = L1[:]  # Copia os elementos da primeira lista\n",
        "L3.extend(L2)\n",
        "\n",
        "x = 0\n",
        "while x < len(L3):\n",
        "    print(f\"{x}: {L3[x]}\")\n",
        "    x = x + 1\n"
      ],
      "metadata": {
        "colab": {
          "base_uri": "https://localhost:8080/"
        },
        "id": "3_GU5AyHff3T",
        "outputId": "f3aea2e4-cfd0-4738-a3e3-c8802ed971c3"
      },
      "execution_count": null,
      "outputs": [
        {
          "output_type": "stream",
          "name": "stdout",
          "text": [
            "Digite um valor da lista 1 (0 encerra)1\n",
            "Digite um valor da lista 1 (0 encerra)2\n",
            "Digite um valor da lista 1 (0 encerra)3\n",
            "Digite um valor da lista 1 (0 encerra)4\n",
            "Digite um valor da lista 1 (0 encerra)5\n",
            "Digite um valor da lista 1 (0 encerra)0\n",
            "Digite uma valor da segunda lista(0 encerra)6\n",
            "Digite uma valor da segunda lista(0 encerra)7\n",
            "Digite uma valor da segunda lista(0 encerra)8\n",
            "Digite uma valor da segunda lista(0 encerra)9\n",
            "Digite uma valor da segunda lista(0 encerra)10\n",
            "Digite uma valor da segunda lista(0 encerra)0\n",
            "0: 1\n",
            "1: 2\n",
            "2: 3\n",
            "3: 4\n",
            "4: 5\n",
            "5: 6\n",
            "6: 7\n",
            "7: 8\n",
            "8: 9\n",
            "9: 10\n"
          ]
        }
      ]
    },
    {
      "cell_type": "code",
      "source": [
        "# EXERCICIO 6-3\n",
        "# Faça um programa que percorra duas listas e gere uma terceira sem elementos repetidos.\n",
        "\n",
        "L1 = []\n",
        "L2 = []\n",
        "\n",
        "while True:\n",
        "  i = int(input('Digite um valor da lista 1 (0 encerra)'))\n",
        "  if i == 0:\n",
        "    break\n",
        "  L1.append(i)\n",
        "\n",
        "while True:\n",
        "  i = int(input('Digite uma valor da segunda 2 (0 encerra)'))\n",
        "  if i == 0:\n",
        "    break\n",
        "  L2.append(i)\n",
        "\n",
        "L3 = L1[:]  # Copia os elementos da primeira lista\n",
        "L3.extend(L2)\n",
        "\n",
        "LAUX = L1[:]\n",
        "LAUX.extend(L2)\n",
        "x = 0\n",
        "while x < len(LAUX):\n",
        "    y = 0\n",
        "    while y < len(L3):\n",
        "        if LAUX[x] == L3[y]:\n",
        "            break\n",
        "        y = y + 1\n",
        "    if y == len(L3):\n",
        "        L3.append(LAUX[x])\n",
        "    x = x + 1\n",
        "x = 0\n",
        "while x < len(L3):\n",
        "    print(f\"{x}: {L3[x]}\")\n",
        "    x = x + 1\n"
      ],
      "metadata": {
        "colab": {
          "base_uri": "https://localhost:8080/"
        },
        "id": "cUgTNrNWhmPF",
        "outputId": "a60f5014-3689-44eb-d614-444615ce9cbc"
      },
      "execution_count": null,
      "outputs": [
        {
          "output_type": "stream",
          "name": "stdout",
          "text": [
            "Digite um valor da lista 1 (0 encerra)1\n",
            "Digite um valor da lista 1 (0 encerra)2\n",
            "Digite um valor da lista 1 (0 encerra)3\n",
            "Digite um valor da lista 1 (0 encerra)4\n",
            "Digite um valor da lista 1 (0 encerra)0\n",
            "Digite uma valor da segunda 2 (0 encerra)4\n",
            "Digite uma valor da segunda 2 (0 encerra)5\n",
            "Digite uma valor da segunda 2 (0 encerra)1\n",
            "Digite uma valor da segunda 2 (0 encerra)8\n",
            "Digite uma valor da segunda 2 (0 encerra)0\n",
            "0: 1\n",
            "1: 2\n",
            "2: 3\n",
            "3: 4\n",
            "4: 4\n",
            "5: 5\n",
            "6: 1\n",
            "7: 8\n"
          ]
        }
      ]
    },
    {
      "cell_type": "code",
      "source": [
        "# EXERCICIO 08-01\n",
        "# Escreva uma função que retorne o maior de dois números.\n",
        "# Valores esperados:\n",
        "# máximo(5, 6) == 6\n",
        "# máximo(2, 1) == 2\n",
        "# máximo(7, 7) == 7\n",
        "\n",
        "def maximo(a,b):\n",
        "  if a > b:\n",
        "    print(a)\n",
        "  else:\n",
        "    print(b)\n",
        "\n",
        "\n",
        "print(maximo(10,90))"
      ],
      "metadata": {
        "colab": {
          "base_uri": "https://localhost:8080/"
        },
        "id": "BBdLIMACi1Hr",
        "outputId": "2e6c6cd9-d61f-4189-d6d3-f8960c3edd27"
      },
      "execution_count": null,
      "outputs": [
        {
          "output_type": "stream",
          "name": "stdout",
          "text": [
            "90\n",
            "None\n"
          ]
        }
      ]
    },
    {
      "cell_type": "code",
      "source": [
        "# EXERCICIO 08-02\n",
        "#Escreva uma função que receba dois números e retorne True se o primeiro número for múltiplo do segundo.\n",
        "#Valores esperados:\n",
        "#múltiplo(8, 4) == True\n",
        "#múltiplo(7, 3) == False\n",
        "#múltiplo(5, 5) == True\n",
        "\n",
        "def multiplo(a,b):\n",
        "  if a%b==0:\n",
        "    return True\n",
        "  else:\n",
        "    return False\n",
        "\n",
        "print(multiplo(4,3))"
      ],
      "metadata": {
        "colab": {
          "base_uri": "https://localhost:8080/"
        },
        "id": "VGPnsoj8Txxd",
        "outputId": "053c2ec3-ef53-4772-de6e-551b7bb06d33"
      },
      "execution_count": null,
      "outputs": [
        {
          "output_type": "stream",
          "name": "stdout",
          "text": [
            "False\n"
          ]
        }
      ]
    },
    {
      "cell_type": "code",
      "source": [
        "# EXERCICIO 08-03\n",
        "# Escreva uma função que receba o lado de um quadrado e retorne sua área (A = lado²).\n",
        "# Valores esperados:\n",
        "# área_quadrado(4) == 16\n",
        "# área_quadrado(9) == 81\n",
        "\n",
        "def area_quadrado(x):\n",
        "  return x*x\n",
        "\n",
        "print(area_quadrado(8))"
      ],
      "metadata": {
        "colab": {
          "base_uri": "https://localhost:8080/"
        },
        "id": "wjlWOvKPU1Lb",
        "outputId": "8d889952-f580-4dcc-df5a-0e050b3b4a79"
      },
      "execution_count": null,
      "outputs": [
        {
          "output_type": "stream",
          "name": "stdout",
          "text": [
            "64\n"
          ]
        }
      ]
    },
    {
      "cell_type": "code",
      "source": [
        "# EXERCICIO 08-04\n",
        "# Escreva uma função que receba a base e a altura de um triângulo e retorne sua área (A = (base x altura) / 2).\n",
        "# Valores esperados:\n",
        "# área_triângulo(6, 9) == 27\n",
        "# área_triângulo(5, 8) == 20\n",
        "\n",
        "def area_triangulo(base,alt):\n",
        "  return (base*alt)/2\n",
        "\n",
        "print(area_triangulo(6,9))\n",
        "print(area_triangulo(5,8))"
      ],
      "metadata": {
        "colab": {
          "base_uri": "https://localhost:8080/"
        },
        "id": "iOt3ntOwVWzc",
        "outputId": "59bcac7c-8b04-4c4f-df0e-6d21e5da6196"
      },
      "execution_count": null,
      "outputs": [
        {
          "output_type": "stream",
          "name": "stdout",
          "text": [
            "27.0\n",
            "20.0\n"
          ]
        }
      ]
    },
    {
      "cell_type": "code",
      "source": [
        "#Exercício 08-05:\n",
        "#Reescreva a função do Programa 8.1 de forma a utilizar os métodos de pesquisa em lista, vistos no Capítulo 7.\n",
        "\n",
        "\n",
        "def pesquise(lista, valor):\n",
        "    if valor in lista:\n",
        "        return lista.index(valor)\n",
        "    return None\n",
        "\n",
        "\n",
        "L = [10, 20, 25, 30]\n",
        "print(pesquise(L, 25))\n",
        "print(pesquise(L, 27))"
      ],
      "metadata": {
        "colab": {
          "base_uri": "https://localhost:8080/"
        },
        "id": "SO25CmxYWLVN",
        "outputId": "9bcea867-0adf-4f63-f055-99732447cba6"
      },
      "execution_count": null,
      "outputs": [
        {
          "output_type": "stream",
          "name": "stdout",
          "text": [
            "2\n",
            "None\n"
          ]
        }
      ]
    },
    {
      "cell_type": "code",
      "source": [
        "#Exercício 08-06:\n",
        "#Reescreva o Programa 8.2 de forma a utilizar for em vez de while.\n",
        "\n",
        "def soma(L):\n",
        "    total = 0\n",
        "    for e in L:\n",
        "        total += e\n",
        "    return total\n",
        "\n",
        "\n",
        "L = [1, 7, 2, 9, 15]\n",
        "print(soma(L))\n",
        "print(soma([7, 9, 12, 3, 100, 20, 4]))"
      ],
      "metadata": {
        "colab": {
          "base_uri": "https://localhost:8080/"
        },
        "id": "WhNz7TibWVTt",
        "outputId": "59f08beb-b190-486d-fb1e-446db759f894"
      },
      "execution_count": null,
      "outputs": [
        {
          "output_type": "stream",
          "name": "stdout",
          "text": [
            "34\n",
            "155\n"
          ]
        }
      ]
    },
    {
      "cell_type": "code",
      "source": [
        "# EXERCICIO 08-07\n",
        "# Defina uma função recursiva que calcule o maior divisor comum (M.D.C.) entre dois números a e b, em que a > b.\n",
        "\n",
        "\n",
        "def MDC(a,b):\n",
        "    if b == 0:\n",
        "        return a\n",
        "    return MDC(b, a % b)\n",
        "\n",
        "\n",
        "print(f\"MDC 20 e 10: {MDC(20,10)}\")"
      ],
      "metadata": {
        "id": "mAB7HU0MWcob",
        "colab": {
          "base_uri": "https://localhost:8080/"
        },
        "outputId": "2fca49bc-c418-4f60-f305-14eb83444ea5"
      },
      "execution_count": null,
      "outputs": [
        {
          "output_type": "stream",
          "name": "stdout",
          "text": [
            "MDC 20 e 10: 10\n"
          ]
        }
      ]
    },
    {
      "cell_type": "code",
      "source": [
        "# EXERCICIO 08-07\n",
        "# Usando a função mdc definida no exercício anterior, defina uma função\n",
        "# para calcular o menor múltiplo comum (M.M.C.) entre dois números.\n",
        "def MMC(a, b):\n",
        "    return abs(a * b) / MDC(a, b)\n",
        "\n",
        "\n",
        "print(f\"MMC 10 e 5: {MMC(10, 5)}\")"
      ],
      "metadata": {
        "colab": {
          "base_uri": "https://localhost:8080/"
        },
        "id": "lEclORITHYbB",
        "outputId": "e24d3d50-9094-4bb4-c8cc-79685512fe09"
      },
      "execution_count": null,
      "outputs": [
        {
          "output_type": "stream",
          "name": "stdout",
          "text": [
            "MMC 10 e 5: 10.0\n"
          ]
        }
      ]
    },
    {
      "cell_type": "code",
      "source": [
        "# EXERCICIO 08-08\n",
        "# Escreva uma função para validar uma variável string. Essa função\n",
        "# recebe como parâmetro a string, o número mínimo e máximo de caracteres.\n",
        "# Retorne verdadeiro se o tamanho da string estiver entre os valores de máximo e\n",
        "# mínimo, e falso, caso contrário.\n",
        "\n",
        "def valida_string(str, min, max):\n",
        "  if len(str) < max and len(str) > min:\n",
        "    return True\n",
        "  else:\n",
        "    return False\n",
        "\n",
        "print(valida_string('Olá, Mundo!',1,12))"
      ],
      "metadata": {
        "colab": {
          "base_uri": "https://localhost:8080/"
        },
        "id": "wIervpyBH6hg",
        "outputId": "7e41e82e-7ad2-48bc-de52-b6336f193f20"
      },
      "execution_count": null,
      "outputs": [
        {
          "output_type": "stream",
          "name": "stdout",
          "text": [
            "True\n"
          ]
        }
      ]
    },
    {
      "cell_type": "code",
      "source": [
        "# EXERCICIO 08-09\n",
        "# Escreva uma função que receba uma string e uma lista.\n",
        "# A função deve comparar a string passada com os elementos da lista, também passada como parâmetro.\n",
        "# Retorne verdadeiro se a string for encontrada dentro da lista, e falso, caso contrário.\n",
        "\n",
        "L = ['a','b','c','d','e','f']\n",
        "\n",
        "def compara(str,list):\n",
        "  return str in list\n",
        "\n",
        "print(compara('a',L))"
      ],
      "metadata": {
        "colab": {
          "base_uri": "https://localhost:8080/"
        },
        "id": "sEYx3oiHOrFR",
        "outputId": "e40369f5-e0ef-4a2b-ce74-6bef51138938"
      },
      "execution_count": null,
      "outputs": [
        {
          "output_type": "stream",
          "name": "stdout",
          "text": [
            "True\n"
          ]
        }
      ]
    }
  ]
}